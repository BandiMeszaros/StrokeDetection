{
 "cells": [
  {
   "cell_type": "code",
   "outputs": [],
   "source": [
    "import pandas as pd\n",
    "from MLengine import MLEngine\n",
    "import random"
   ],
   "metadata": {
    "collapsed": false,
    "ExecuteTime": {
     "end_time": "2024-03-23T18:57:28.872294Z",
     "start_time": "2024-03-23T18:57:28.860142Z"
    }
   },
   "id": "5d994af3f49da420",
   "execution_count": 1
  },
  {
   "cell_type": "code",
   "outputs": [
    {
     "name": "stdout",
     "output_type": "stream",
     "text": [
      "gender                          Male\n",
      "age                             67.0\n",
      "hypertension                       0\n",
      "heart_disease                      1\n",
      "ever_married                     Yes\n",
      "work_type                    Private\n",
      "Residence_type                 Urban\n",
      "avg_glucose_level             228.69\n",
      "bmi                             36.6\n",
      "smoking_status       formerly smoked\n",
      "stroke                             1\n",
      "Name: 0, dtype: object\n"
     ]
    }
   ],
   "source": [
    "\n",
    "engine = MLEngine()\n",
    "\n",
    "df = pd.read_csv('data/raw_data/full_data.csv')\n",
    "# get a random row location\n",
    "\n",
    "random_index = random.randint(0, len(df) - 1)\n",
    "random_row = df.iloc[0]\n",
    "print(random_row)"
   ],
   "metadata": {
    "collapsed": false,
    "ExecuteTime": {
     "end_time": "2024-03-23T18:57:29.435802Z",
     "start_time": "2024-03-23T18:57:28.875003Z"
    }
   },
   "id": "758c4f37a10d9b42",
   "execution_count": 2
  },
  {
   "cell_type": "code",
   "outputs": [],
   "source": [],
   "metadata": {
    "collapsed": false,
    "ExecuteTime": {
     "end_time": "2024-03-23T18:57:29.441074Z",
     "start_time": "2024-03-23T18:57:29.437809Z"
    }
   },
   "id": "acd902ec017b9f54",
   "execution_count": 2
  },
  {
   "cell_type": "code",
   "outputs": [
    {
     "data": {
      "text/plain": "('{\"prediction\": {\"GradientBoosting\": 1, \"KNN\": 1, \"RandomForest\": 1, \"SVM\": 0}, \"target_column\": 1.0}',\n 200)"
     },
     "execution_count": 3,
     "metadata": {},
     "output_type": "execute_result"
    }
   ],
   "source": [
    "engine.predict(random_row)"
   ],
   "metadata": {
    "collapsed": false,
    "ExecuteTime": {
     "end_time": "2024-03-23T18:57:29.628954Z",
     "start_time": "2024-03-23T18:57:29.445516Z"
    }
   },
   "id": "57cdb336adf4d28c",
   "execution_count": 3
  },
  {
   "cell_type": "code",
   "outputs": [],
   "source": [
    "#"
   ],
   "metadata": {
    "collapsed": false,
    "ExecuteTime": {
     "end_time": "2024-03-23T18:57:29.634872Z",
     "start_time": "2024-03-23T18:57:29.631009Z"
    }
   },
   "id": "cdfaf323376e4a7c",
   "execution_count": 4
  }
 ],
 "metadata": {
  "kernelspec": {
   "display_name": "Python 3",
   "language": "python",
   "name": "python3"
  },
  "language_info": {
   "codemirror_mode": {
    "name": "ipython",
    "version": 2
   },
   "file_extension": ".py",
   "mimetype": "text/x-python",
   "name": "python",
   "nbconvert_exporter": "python",
   "pygments_lexer": "ipython2",
   "version": "2.7.6"
  }
 },
 "nbformat": 4,
 "nbformat_minor": 5
}
