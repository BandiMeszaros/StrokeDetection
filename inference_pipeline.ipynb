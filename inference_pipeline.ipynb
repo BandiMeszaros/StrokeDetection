{
 "cells": [
  {
   "cell_type": "code",
   "outputs": [],
   "source": [
    "import pandas as pd\n",
    "from MLengine import MLEngine\n",
    "import random"
   ],
   "metadata": {
    "collapsed": false,
    "ExecuteTime": {
     "end_time": "2024-03-23T17:42:40.890605Z",
     "start_time": "2024-03-23T17:42:40.870476Z"
    }
   },
   "id": "5d994af3f49da420",
   "execution_count": 21
  },
  {
   "cell_type": "code",
   "outputs": [
    {
     "name": "stdout",
     "output_type": "stream",
     "text": [
      "gender                       Male\n",
      "age                          48.0\n",
      "hypertension                    0\n",
      "heart_disease                   0\n",
      "ever_married                  Yes\n",
      "work_type                 Private\n",
      "Residence_type              Rural\n",
      "avg_glucose_level           98.24\n",
      "bmi                          34.6\n",
      "smoking_status       never smoked\n",
      "stroke                          0\n",
      "Name: 4431, dtype: object\n"
     ]
    }
   ],
   "source": [
    "\n",
    "engine = MLEngine()\n",
    "\n",
    "df = pd.read_csv('data/raw_data/full_data.csv')\n",
    "# get a random row location\n",
    "\n",
    "random_index = random.randint(0, len(df) - 1)\n",
    "random_row = df.iloc[random_index]\n",
    "print(random_row)"
   ],
   "metadata": {
    "collapsed": false,
    "ExecuteTime": {
     "end_time": "2024-03-23T17:43:27.317079Z",
     "start_time": "2024-03-23T17:43:27.278222Z"
    }
   },
   "id": "758c4f37a10d9b42",
   "execution_count": 25
  },
  {
   "cell_type": "code",
   "outputs": [],
   "source": [
    "engine.predict(random_row)"
   ],
   "metadata": {
    "collapsed": false,
    "is_executing": true,
    "ExecuteTime": {
     "start_time": "2024-03-23T17:43:30.542474Z"
    }
   },
   "id": "57cdb336adf4d28c",
   "execution_count": null
  },
  {
   "cell_type": "code",
   "outputs": [],
   "source": [
    "#"
   ],
   "metadata": {
    "collapsed": false,
    "ExecuteTime": {
     "end_time": "2024-03-23T17:42:41.107651Z",
     "start_time": "2024-03-23T17:42:41.103352Z"
    }
   },
   "id": "cdfaf323376e4a7c",
   "execution_count": 24
  }
 ],
 "metadata": {
  "kernelspec": {
   "display_name": "Python 3",
   "language": "python",
   "name": "python3"
  },
  "language_info": {
   "codemirror_mode": {
    "name": "ipython",
    "version": 2
   },
   "file_extension": ".py",
   "mimetype": "text/x-python",
   "name": "python",
   "nbconvert_exporter": "python",
   "pygments_lexer": "ipython2",
   "version": "2.7.6"
  }
 },
 "nbformat": 4,
 "nbformat_minor": 5
}
