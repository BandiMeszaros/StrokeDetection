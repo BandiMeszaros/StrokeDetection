{
 "cells": [
  {
   "cell_type": "code",
   "execution_count": 18,
   "id": "initial_id",
   "metadata": {
    "collapsed": true,
    "ExecuteTime": {
     "end_time": "2024-03-26T19:27:55.000257Z",
     "start_time": "2024-03-26T19:27:53.781197Z"
    }
   },
   "outputs": [
    {
     "name": "stdout",
     "output_type": "stream",
     "text": [
      "80720\n"
     ]
    }
   ],
   "source": [
    "# it is just a short script to prepare data for manual testing\n",
    "import pandas as pd\n",
    "from sklearn.model_selection import train_test_split\n",
    "all_data = pd.read_csv(\"data/complete_data.csv\")\n",
    "all_data_target = all_data[\"stroke\"]\n",
    "all_data = all_data.drop(\"stroke\", axis=1)\n",
    "X_train, X_test, y_train, y_test = train_test_split(all_data, all_data_target, test_size=0.2, random_state=42)\n",
    "\n",
    "user_test_data = pd.merge(X_test, y_test, left_index=True, right_index=True)\n",
    "\n",
    "for row,data in user_test_data.iterrows():\n",
    "    data_row = pd.DataFrame([data])\n",
    "    data_row.reset_index(drop=True, inplace=True)\n",
    "    data_row.to_csv(f\"data/demo_test/{row}.csv\", index_label=False)"
   ]
  }
 ],
 "metadata": {
  "kernelspec": {
   "display_name": "Python 3",
   "language": "python",
   "name": "python3"
  },
  "language_info": {
   "codemirror_mode": {
    "name": "ipython",
    "version": 2
   },
   "file_extension": ".py",
   "mimetype": "text/x-python",
   "name": "python",
   "nbconvert_exporter": "python",
   "pygments_lexer": "ipython2",
   "version": "2.7.6"
  }
 },
 "nbformat": 4,
 "nbformat_minor": 5
}
