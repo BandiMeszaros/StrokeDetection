{
 "cells": [
  {
   "cell_type": "code",
   "outputs": [],
   "source": [
    "import pandas as pd\n",
    "from sklearn.metrics import accuracy_score\n",
    "   \n",
    "# SVM\n",
    "# load train data\n",
    "X_train = pd.read_csv(\"data/processed_data/X_train.csv\")\n",
    "y_train = pd.read_csv(\"data/processed_data/y_train.csv\")\n",
    "X_validation = pd.read_csv(\"data/processed_data/X_validation.csv\")\n",
    "y_validation = pd.read_csv(\"data/processed_data/y_validation.csv\")\n"
   ],
   "metadata": {
    "collapsed": false,
    "ExecuteTime": {
     "end_time": "2024-03-23T17:38:42.547328Z",
     "start_time": "2024-03-23T17:38:42.182495Z"
    }
   },
   "id": "bbea8a1ed22296ab",
   "execution_count": 1
  },
  {
   "cell_type": "code",
   "outputs": [
    {
     "name": "stdout",
     "output_type": "stream",
     "text": [
      "\n",
      "Optimized Parameters for RandomForest:\n",
      "{'max_depth': 9, 'n_estimators': 43}\n",
      "Optimized Accuracy (train) (RandomForest): 0.9612823292550721\n",
      "Optimized Accuracy (validation) (RandomForest): 0.9541795665634675\n",
      "\n",
      "Optimized Parameters for KNN:\n",
      "{'algorithm': 'kd_tree', 'n_neighbors': 76, 'weights': 'distance'}\n",
      "Optimized Accuracy (train) (KNN): 1.0\n",
      "Optimized Accuracy (validation) (KNN): 0.9808049535603716\n",
      "\n",
      "Optimized Parameters for GradientBoosting:\n",
      "{'learning_rate': 0.18885196844001045, 'max_depth': 17, 'min_samples_leaf': 10, 'n_estimators': 57}\n",
      "Optimized Accuracy (train) (GradientBoosting): 1.0\n",
      "Optimized Accuracy (validation) (GradientBoosting): 0.9801857585139319\n",
      "\n",
      "Optimized Parameters for SVM:\n",
      "{'C': 3.384762876875148, 'kernel': 'rbf'}\n",
      "Optimized Accuracy (train) (SVM): 0.9540034071550255\n",
      "Optimized Accuracy (validation) (SVM): 0.9492260061919504\n"
     ]
    }
   ],
   "source": [
    "from scipy.stats import randint, uniform\n",
    "\n",
    "# Optimizing the hyperparameters\n",
    "from sklearn.model_selection import RandomizedSearchCV\n",
    "from sklearn.neighbors import KNeighborsClassifier\n",
    "from sklearn.ensemble import RandomForestClassifier\n",
    "from sklearn.ensemble import GradientBoostingClassifier\n",
    "from sklearn.svm import SVC\n",
    "\n",
    "import json\n",
    "\n",
    "def optimizing_model_parameters(model_name, model, param_distributions, X_train, y_train, X_validation, y_validation):\n",
    "    rand_search = RandomizedSearchCV(model, param_distributions, cv=5, scoring='accuracy', n_jobs=-1, n_iter=50)\n",
    "    rand_search.fit(X_train, y_train.values.ravel())\n",
    "    best_model = rand_search.best_estimator_\n",
    "    y_pred = best_model.predict(X_validation)\n",
    "    accuracy = accuracy_score(y_validation, y_pred)\n",
    "    train_accuracy = accuracy_score(y_train, best_model.predict(X_train))\n",
    "\n",
    "    # Enhanced output\n",
    "    print(f\"\\nOptimized Parameters for {model_name}:\")\n",
    "    print(rand_search.best_params_)\n",
    "    print(f\"Optimized Accuracy (train) ({model_name}): {train_accuracy}\")\n",
    "    print(f\"Optimized Accuracy (validation) ({model_name}): {accuracy}\")\n",
    "\n",
    "    # Unchanged saving logic\n",
    "    with open(f\"models/{model_name}.json\", \"w\") as f:\n",
    "        json.dump([rand_search.best_params_, {\"accuracy_validation\": accuracy}, {\"accuracy_train\": train_accuracy}], f)\n",
    "\n",
    "    return best_model\n",
    "\n",
    "rf_model = RandomForestClassifier()\n",
    "param_grid = {\n",
    "    'n_estimators': randint(2,200),\n",
    "    'max_depth': randint(1,10)\n",
    "}\n",
    "\n",
    "best_model_RandomForest = optimizing_model_parameters(\"RandomForest\", rf_model, param_grid, X_train, y_train, X_validation, y_validation)\n",
    "\n",
    "model_KNN = KNeighborsClassifier()\n",
    "param_grid = {\n",
    "    'n_neighbors': randint(1,100),\n",
    "    'weights': ['uniform', 'distance'],\n",
    "    'algorithm': ['auto', 'ball_tree', 'kd_tree', 'brute']\n",
    "}\n",
    "\n",
    "model_KNN = optimizing_model_parameters(\"KNN\", model_KNN, param_grid, X_train, y_train, X_validation, y_validation)\n",
    "\n",
    "gbc_model = GradientBoostingClassifier()\n",
    "param_grid = {\n",
    "    'n_estimators': randint(50,250),\n",
    "    'learning_rate': uniform(0.001, 0.7),\n",
    "    'max_depth': randint(1,20), \n",
    "    'min_samples_leaf': randint(1,20)\n",
    "}\n",
    "\n",
    "best_model_GradientBoosting = optimizing_model_parameters(\"GradientBoosting\", gbc_model, param_grid, X_train, y_train, X_validation, y_validation)\n",
    "\n",
    "svm_model = SVC()\n",
    "param_grid = {\n",
    "    'C': uniform(0.01, 10),   \n",
    "   'kernel': ['rbf', 'linear']\n",
    "}\n",
    "best_model_SVM = optimizing_model_parameters(\"SVM\", svm_model, param_grid, X_train, y_train, X_validation, y_validation)"
   ],
   "metadata": {
    "collapsed": false,
    "ExecuteTime": {
     "end_time": "2024-03-23T17:41:59.303976Z",
     "start_time": "2024-03-23T17:38:42.549386Z"
    }
   },
   "id": "e4ae5f5e734c3a0d",
   "execution_count": 2
  },
  {
   "cell_type": "code",
   "outputs": [
    {
     "data": {
      "text/plain": "['models/best_model_SVM.pkl']"
     },
     "execution_count": 3,
     "metadata": {},
     "output_type": "execute_result"
    }
   ],
   "source": [
    "# Save the best model\n",
    "import joblib\n",
    "joblib.dump(best_model_RandomForest, \"models/best_model_RandomForest.pkl\")\n",
    "joblib.dump(model_KNN, \"models/best_model_KNN.pkl\")\n",
    "joblib.dump(best_model_GradientBoosting, \"models/best_model_GradientBoosting.pkl\")\n",
    "joblib.dump(best_model_SVM, \"models/best_model_SVM.pkl\")\n",
    "\n"
   ],
   "metadata": {
    "collapsed": false,
    "ExecuteTime": {
     "end_time": "2024-03-23T17:41:59.411081Z",
     "start_time": "2024-03-23T17:41:59.308309Z"
    }
   },
   "id": "c8c399314e12ec9f",
   "execution_count": 3
  }
 ],
 "metadata": {
  "kernelspec": {
   "display_name": "Python 3",
   "language": "python",
   "name": "python3"
  },
  "language_info": {
   "codemirror_mode": {
    "name": "ipython",
    "version": 2
   },
   "file_extension": ".py",
   "mimetype": "text/x-python",
   "name": "python",
   "nbconvert_exporter": "python",
   "pygments_lexer": "ipython2",
   "version": "2.7.6"
  }
 },
 "nbformat": 4,
 "nbformat_minor": 5
}
