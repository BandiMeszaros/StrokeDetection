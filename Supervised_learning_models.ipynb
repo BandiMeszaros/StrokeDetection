{
 "cells": [
  {
   "cell_type": "code",
   "outputs": [],
   "source": [
    "import pandas as pd\n",
    "from sklearn.metrics import accuracy_score\n",
    "    \n",
    "# SVM\n",
    "# load train data\n",
    "X_train = pd.read_csv(\"data/processed_data/X_train.csv\")\n",
    "y_train = pd.read_csv(\"data/processed_data/y_train.csv\")\n",
    "X_validation = pd.read_csv(\"data/processed_data/X_validation.csv\")\n",
    "y_validation = pd.read_csv(\"data/processed_data/y_validation.csv\")\n"
   ],
   "metadata": {
    "collapsed": false,
    "ExecuteTime": {
     "end_time": "2024-03-18T17:47:39.777230Z",
     "start_time": "2024-03-18T17:47:39.618495Z"
    }
   },
   "id": "d3e7af6d259dd64",
   "execution_count": 31
  },
  {
   "cell_type": "code",
   "outputs": [],
   "source": [
    "continuous_cols = ['age', 'avg_glucose_level', 'bmi']\n",
    "discrete_cols = ['hypertension', 'heart_disease', 'stroke']\n",
    "nominal_cols = ['gender', 'work_type', 'Residence_type', 'smoking_status', 'ever_married', 'diabetic_status', 'weight_status']"
   ],
   "metadata": {
    "collapsed": false,
    "ExecuteTime": {
     "end_time": "2024-03-18T17:47:39.784023Z",
     "start_time": "2024-03-18T17:47:39.779869Z"
    }
   },
   "id": "ab918684b8d64c21",
   "execution_count": 32
  },
  {
   "cell_type": "code",
   "outputs": [
    {
     "name": "stdout",
     "output_type": "stream",
     "text": [
      "Requirement already satisfied: catboost in ./venv/lib/python3.9/site-packages (1.2.3)\r\n",
      "Requirement already satisfied: graphviz in ./venv/lib/python3.9/site-packages (from catboost) (0.20.2)\r\n",
      "Requirement already satisfied: matplotlib in ./venv/lib/python3.9/site-packages (from catboost) (3.8.3)\r\n",
      "Requirement already satisfied: numpy>=1.16.0 in ./venv/lib/python3.9/site-packages (from catboost) (1.26.4)\r\n",
      "Requirement already satisfied: pandas>=0.24 in ./venv/lib/python3.9/site-packages (from catboost) (2.2.1)\r\n",
      "Requirement already satisfied: scipy in ./venv/lib/python3.9/site-packages (from catboost) (1.12.0)\r\n",
      "Requirement already satisfied: plotly in ./venv/lib/python3.9/site-packages (from catboost) (5.20.0)\r\n",
      "Requirement already satisfied: six in ./venv/lib/python3.9/site-packages (from catboost) (1.16.0)\r\n",
      "Requirement already satisfied: python-dateutil>=2.8.2 in ./venv/lib/python3.9/site-packages (from pandas>=0.24->catboost) (2.9.0.post0)\r\n",
      "Requirement already satisfied: pytz>=2020.1 in ./venv/lib/python3.9/site-packages (from pandas>=0.24->catboost) (2024.1)\r\n",
      "Requirement already satisfied: tzdata>=2022.7 in ./venv/lib/python3.9/site-packages (from pandas>=0.24->catboost) (2024.1)\r\n",
      "Requirement already satisfied: contourpy>=1.0.1 in ./venv/lib/python3.9/site-packages (from matplotlib->catboost) (1.2.0)\r\n",
      "Requirement already satisfied: cycler>=0.10 in ./venv/lib/python3.9/site-packages (from matplotlib->catboost) (0.12.1)\r\n",
      "Requirement already satisfied: fonttools>=4.22.0 in ./venv/lib/python3.9/site-packages (from matplotlib->catboost) (4.50.0)\r\n",
      "Requirement already satisfied: kiwisolver>=1.3.1 in ./venv/lib/python3.9/site-packages (from matplotlib->catboost) (1.4.5)\r\n",
      "Requirement already satisfied: packaging>=20.0 in ./venv/lib/python3.9/site-packages (from matplotlib->catboost) (24.0)\r\n",
      "Requirement already satisfied: pillow>=8 in ./venv/lib/python3.9/site-packages (from matplotlib->catboost) (10.2.0)\r\n",
      "Requirement already satisfied: pyparsing>=2.3.1 in ./venv/lib/python3.9/site-packages (from matplotlib->catboost) (3.1.2)\r\n",
      "Requirement already satisfied: importlib-resources>=3.2.0 in ./venv/lib/python3.9/site-packages (from matplotlib->catboost) (6.3.1)\r\n",
      "Requirement already satisfied: tenacity>=6.2.0 in ./venv/lib/python3.9/site-packages (from plotly->catboost) (8.2.3)\r\n",
      "Requirement already satisfied: zipp>=3.1.0 in ./venv/lib/python3.9/site-packages (from importlib-resources>=3.2.0->matplotlib->catboost) (3.18.1)\r\n",
      "Requirement already satisfied: lightgbm in ./venv/lib/python3.9/site-packages (4.3.0)\r\n",
      "Requirement already satisfied: numpy in ./venv/lib/python3.9/site-packages (from lightgbm) (1.26.4)\r\n",
      "Requirement already satisfied: scipy in ./venv/lib/python3.9/site-packages (from lightgbm) (1.12.0)\r\n"
     ]
    }
   ],
   "source": [
    "!pip install catboost\n",
    "!pip install lightgbm"
   ],
   "metadata": {
    "collapsed": false,
    "ExecuteTime": {
     "end_time": "2024-03-18T17:47:47.760190Z",
     "start_time": "2024-03-18T17:47:39.788379Z"
    }
   },
   "id": "bbea8a1ed22296ab",
   "execution_count": 33
  },
  {
   "cell_type": "code",
   "outputs": [],
   "source": [
    "\n",
    "\n",
    "# Optimizing the hyperparameters\n",
    "from sklearn.model_selection import GridSearchCV\n",
    "from sklearn.neighbors import KNeighborsClassifier\n",
    "from sklearn.ensemble import RandomForestClassifier\n",
    "from sklearn.ensemble import GradientBoostingClassifier\n",
    "from sklearn.svm import SVC\n",
    "from catboost import CatBoostClassifier\n",
    "from lightgbm import LGBMClassifier\n",
    "\n",
    "def optimizing_model_parameters(model_name, model, param_grid, X_train, y_train, X_validation, y_validation):\n",
    "    grid_search = GridSearchCV(model, param_grid, cv=5, scoring='accuracy', n_jobs=-1)\n",
    "    grid_search.fit(X_train, y_train.values.ravel())\n",
    "    best_model = grid_search.best_estimator_\n",
    "    y_pred = best_model.predict(X_validation)\n",
    "    accuracy = accuracy_score(y_validation, y_pred)\n",
    "    print(f\"Optimized Accuracy {model_name}:\", accuracy) \n",
    "    return best_model\n",
    "\n",
    "rf_model = RandomForestClassifier()\n",
    "param_grid = {\n",
    "    'n_estimators': [1, 2, 4, 8, 16, 32, 64, 100, 200],\n",
    "    'max_depth': [2, 4, 8, 16, 32, 64, 100, 200],\n",
    "    'min_samples_split': [2, 5, 10],\n",
    "    'min_samples_leaf': [1, 2, 4]\n",
    "}\n",
    "\n",
    "best_model_RandomForest = optimizing_model_parameters(\"RandomForest\", rf_model, param_grid, X_train, y_train, X_validation, y_validation)\n",
    "\n",
    "model_KNN = KNeighborsClassifier()\n",
    "param_grid = {\n",
    "    'n_neighbors': [1, 2, 4, 8, 16, 32, 64, 100, 200],\n",
    "    'weights': ['uniform', 'distance'],\n",
    "    'algorithm': ['auto', 'ball_tree', 'kd_tree', 'brute']\n",
    "}\n",
    "\n",
    "model_KNN = optimizing_model_parameters(\"KNN\", model_KNN, param_grid, X_train, y_train, X_validation, y_validation)\n",
    "\n",
    "gbc_model = GradientBoostingClassifier()\n",
    "param_grid = {\n",
    "    'n_estimators': [1, 2, 4, 8, 16, 32, 64, 100, 200],\n",
    "    'learning_rate': [0.1, 0.2, 0.3, 0.4, 0.5],\n",
    "    'max_depth': [2, 4, 8, 16, 32, 64, 100, 200],\n",
    "    'min_samples_split': [2, 5, 10],\n",
    "    'min_samples_leaf': [1, 2, 4]\n",
    "}\n",
    "\n",
    "best_model_GradientBoosting = optimizing_model_parameters(\"GradientBoosting\", gbc_model, param_grid, X_train, y_train, X_validation, y_validation)\n",
    "\n",
    "svm_model = SVC()\n",
    "param_grid = {\n",
    "    'C': [1, 2, 4, 8, 16, 32, 64, 100, 200],\n",
    "    'kernel': ['linear', 'poly', 'rbf', 'sigmoid'],\n",
    "    'degree': [1, 2, 3, 4, 5, 6, 7, 8, 9, 10],\n",
    "    'gamma': ['scale', 'auto']\n",
    "}\n",
    "best_model_SVM = optimizing_model_parameters(\"SVM\", svm_model, param_grid, X_train, y_train, X_validation, y_validation)\n",
    "\n",
    "catboost_model = CatBoostClassifier()\n",
    "param_grid = {\n",
    "    'iterations': [1, 2, 4, 8, 16, 32, 64, 100, 200],\n",
    "    'learning_rate': [0.1, 0.2, 0.3, 0.4, 0.5],\n",
    "    'depth': [2, 4, 8, 16, 32, 64, 100, 200],\n",
    "    'l2_leaf_reg': [1, 2, 4, 8, 16, 32, 64, 100, 200]\n",
    "}\n",
    "best_model_CatBoost = optimizing_model_parameters(\"CatBoost\", catboost_model, param_grid, X_train, y_train, X_validation, y_validation)\n",
    "\n",
    "lgbm_model = LGBMClassifier()\n",
    "param_grid = {\n",
    "    'n_estimators': [1, 2, 4, 8, 16, 32, 64, 100, 200],\n",
    "    'learning_rate': [0.1, 0.2, 0.3, 0.4, 0.5],\n",
    "    'max_depth': [2, 4, 8, 16, 32, 64, 100, 200],\n",
    "    'min_child_samples': [1, 2, 4, 8, 16, 32, 64, 100, 200]\n",
    "}\n",
    "best_model_LGBM = optimizing_model_parameters(\"LGBM\", lgbm_model, param_grid, X_train, y_train, X_validation, y_validation)\n",
    "\n",
    "# todo: check params of each model\n"
   ],
   "metadata": {
    "collapsed": false,
    "is_executing": true,
    "ExecuteTime": {
     "start_time": "2024-03-18T17:47:47.774125Z"
    }
   },
   "id": "e4ae5f5e734c3a0d",
   "execution_count": null
  },
  {
   "cell_type": "code",
   "outputs": [],
   "source": [
    "# Save the best model\n",
    "import joblib\n",
    "joblib.dump(best_model_RandomForest, \"models/best_model_RandomForest.pkl\")\n",
    "joblib.dump(model_KNN, \"models/best_model_KNN.pkl\")\n",
    "joblib.dump(best_model_GradientBoosting, \"models/best_model_GradientBoosting.pkl\")\n",
    "joblib.dump(best_model_SVM, \"models/best_model_SVM.pkl\")\n",
    "joblib.dump(best_model_CatBoost, \"models/best_model_CatBoost.pkl\")\n",
    "joblib.dump(best_model_LGBM, \"models/best_model_LGBM.pkl\")\n",
    "\n"
   ],
   "metadata": {
    "collapsed": false,
    "is_executing": true
   },
   "id": "c8c399314e12ec9f",
   "execution_count": null
  }
 ],
 "metadata": {
  "kernelspec": {
   "display_name": "Python 3",
   "language": "python",
   "name": "python3"
  },
  "language_info": {
   "codemirror_mode": {
    "name": "ipython",
    "version": 2
   },
   "file_extension": ".py",
   "mimetype": "text/x-python",
   "name": "python",
   "nbconvert_exporter": "python",
   "pygments_lexer": "ipython2",
   "version": "2.7.6"
  }
 },
 "nbformat": 4,
 "nbformat_minor": 5
}
