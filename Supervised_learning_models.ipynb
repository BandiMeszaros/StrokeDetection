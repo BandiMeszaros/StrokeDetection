{
 "cells": [
  {
   "cell_type": "code",
   "outputs": [],
   "source": [
    "import pandas as pd\n",
    "import yaml\n",
    "from sklearn.svm import SVC\n",
    "from sklearn.metrics import accuracy_score\n",
    "    \n",
    "# SVM\n",
    "# load train data\n",
    "X_train = pd.read_csv(\"data/processed_data/X_train.csv\")\n",
    "y_train = pd.read_csv(\"data/processed_data/y_train.csv\")\n",
    "X_validation = pd.read_csv(\"data/processed_data/X_validation.csv\")\n",
    "y_validation = pd.read_csv(\"data/processed_data/y_validation.csv\")\n"
   ],
   "metadata": {
    "collapsed": false,
    "ExecuteTime": {
     "end_time": "2024-03-13T19:28:22.186571Z",
     "start_time": "2024-03-13T19:28:22.169936Z"
    }
   },
   "id": "d3e7af6d259dd64",
   "execution_count": 23
  },
  {
   "cell_type": "code",
   "outputs": [
    {
     "data": {
      "text/plain": "        gender       age  hypertension  heart_disease  ever_married  \\\n3137 -0.842472 -0.146762     -0.327411      -0.240326     -1.384977   \n214  -0.842472  0.295025     -0.327411      -0.240326      0.722034   \n4833 -0.842472 -1.855593     -0.327411      -0.240326     -1.384977   \n4625 -0.842472 -1.781372     -0.327411      -0.240326     -1.384977   \n2540 -0.842472 -0.765263     -0.327411      -0.240326     -1.384977   \n1880  1.186015  1.134420      3.054269      -0.240326     -1.384977   \n3424 -0.842472  1.266956     -0.327411      -0.240326      0.722034   \n5444 -0.842472 -1.030335     -0.327411      -0.240326     -1.384977   \n1435 -0.842472 -0.014226     -0.327411      -0.240326      0.722034   \n5397 -0.842472  0.029953     -0.327411      -0.240326      0.722034   \n\n      work_type  Residence_type  avg_glucose_level       bmi  smoking_status  \\\n3137  -0.156238        0.983780          -0.564490 -0.175173        1.513269   \n214   -1.990561        0.983780          -0.291610 -1.126279        0.580213   \n4833   1.678085        0.983780          -0.550939 -1.433560       -1.285899   \n4625   1.678085        0.983780          -0.896712 -1.857899       -1.285899   \n2540  -1.990561        0.983780          -0.333663  1.478288       -1.285899   \n1880  -0.156238        0.983780          -0.670091  0.015048        0.580213   \n3424  -0.156238        0.983780          -0.220353  0.951521        0.580213   \n5444  -0.156238       -1.016487          -0.232735  0.044313       -1.285899   \n1435   0.760923       -1.016487           0.333117  2.209908        0.580213   \n5397  -0.156238       -1.016487          -0.371044 -0.423924       -1.285899   \n\n      weight_status  diabetic_status  \n3137       0.924644         0.021328  \n214       -1.359185         0.021328  \n4833      -1.359185         0.021328  \n4625       2.066558         0.021328  \n2540      -0.217270         0.021328  \n1880       0.924644         0.021328  \n3424      -0.217270         0.021328  \n5444       0.924644         0.021328  \n1435      -0.217270         0.021328  \n5397       0.924644         0.021328  ",
      "text/html": "<div>\n<style scoped>\n    .dataframe tbody tr th:only-of-type {\n        vertical-align: middle;\n    }\n\n    .dataframe tbody tr th {\n        vertical-align: top;\n    }\n\n    .dataframe thead th {\n        text-align: right;\n    }\n</style>\n<table border=\"1\" class=\"dataframe\">\n  <thead>\n    <tr style=\"text-align: right;\">\n      <th></th>\n      <th>gender</th>\n      <th>age</th>\n      <th>hypertension</th>\n      <th>heart_disease</th>\n      <th>ever_married</th>\n      <th>work_type</th>\n      <th>Residence_type</th>\n      <th>avg_glucose_level</th>\n      <th>bmi</th>\n      <th>smoking_status</th>\n      <th>weight_status</th>\n      <th>diabetic_status</th>\n    </tr>\n  </thead>\n  <tbody>\n    <tr>\n      <th>3137</th>\n      <td>-0.842472</td>\n      <td>-0.146762</td>\n      <td>-0.327411</td>\n      <td>-0.240326</td>\n      <td>-1.384977</td>\n      <td>-0.156238</td>\n      <td>0.983780</td>\n      <td>-0.564490</td>\n      <td>-0.175173</td>\n      <td>1.513269</td>\n      <td>0.924644</td>\n      <td>0.021328</td>\n    </tr>\n    <tr>\n      <th>214</th>\n      <td>-0.842472</td>\n      <td>0.295025</td>\n      <td>-0.327411</td>\n      <td>-0.240326</td>\n      <td>0.722034</td>\n      <td>-1.990561</td>\n      <td>0.983780</td>\n      <td>-0.291610</td>\n      <td>-1.126279</td>\n      <td>0.580213</td>\n      <td>-1.359185</td>\n      <td>0.021328</td>\n    </tr>\n    <tr>\n      <th>4833</th>\n      <td>-0.842472</td>\n      <td>-1.855593</td>\n      <td>-0.327411</td>\n      <td>-0.240326</td>\n      <td>-1.384977</td>\n      <td>1.678085</td>\n      <td>0.983780</td>\n      <td>-0.550939</td>\n      <td>-1.433560</td>\n      <td>-1.285899</td>\n      <td>-1.359185</td>\n      <td>0.021328</td>\n    </tr>\n    <tr>\n      <th>4625</th>\n      <td>-0.842472</td>\n      <td>-1.781372</td>\n      <td>-0.327411</td>\n      <td>-0.240326</td>\n      <td>-1.384977</td>\n      <td>1.678085</td>\n      <td>0.983780</td>\n      <td>-0.896712</td>\n      <td>-1.857899</td>\n      <td>-1.285899</td>\n      <td>2.066558</td>\n      <td>0.021328</td>\n    </tr>\n    <tr>\n      <th>2540</th>\n      <td>-0.842472</td>\n      <td>-0.765263</td>\n      <td>-0.327411</td>\n      <td>-0.240326</td>\n      <td>-1.384977</td>\n      <td>-1.990561</td>\n      <td>0.983780</td>\n      <td>-0.333663</td>\n      <td>1.478288</td>\n      <td>-1.285899</td>\n      <td>-0.217270</td>\n      <td>0.021328</td>\n    </tr>\n    <tr>\n      <th>1880</th>\n      <td>1.186015</td>\n      <td>1.134420</td>\n      <td>3.054269</td>\n      <td>-0.240326</td>\n      <td>-1.384977</td>\n      <td>-0.156238</td>\n      <td>0.983780</td>\n      <td>-0.670091</td>\n      <td>0.015048</td>\n      <td>0.580213</td>\n      <td>0.924644</td>\n      <td>0.021328</td>\n    </tr>\n    <tr>\n      <th>3424</th>\n      <td>-0.842472</td>\n      <td>1.266956</td>\n      <td>-0.327411</td>\n      <td>-0.240326</td>\n      <td>0.722034</td>\n      <td>-0.156238</td>\n      <td>0.983780</td>\n      <td>-0.220353</td>\n      <td>0.951521</td>\n      <td>0.580213</td>\n      <td>-0.217270</td>\n      <td>0.021328</td>\n    </tr>\n    <tr>\n      <th>5444</th>\n      <td>-0.842472</td>\n      <td>-1.030335</td>\n      <td>-0.327411</td>\n      <td>-0.240326</td>\n      <td>-1.384977</td>\n      <td>-0.156238</td>\n      <td>-1.016487</td>\n      <td>-0.232735</td>\n      <td>0.044313</td>\n      <td>-1.285899</td>\n      <td>0.924644</td>\n      <td>0.021328</td>\n    </tr>\n    <tr>\n      <th>1435</th>\n      <td>-0.842472</td>\n      <td>-0.014226</td>\n      <td>-0.327411</td>\n      <td>-0.240326</td>\n      <td>0.722034</td>\n      <td>0.760923</td>\n      <td>-1.016487</td>\n      <td>0.333117</td>\n      <td>2.209908</td>\n      <td>0.580213</td>\n      <td>-0.217270</td>\n      <td>0.021328</td>\n    </tr>\n    <tr>\n      <th>5397</th>\n      <td>-0.842472</td>\n      <td>0.029953</td>\n      <td>-0.327411</td>\n      <td>-0.240326</td>\n      <td>0.722034</td>\n      <td>-0.156238</td>\n      <td>-1.016487</td>\n      <td>-0.371044</td>\n      <td>-0.423924</td>\n      <td>-1.285899</td>\n      <td>0.924644</td>\n      <td>0.021328</td>\n    </tr>\n  </tbody>\n</table>\n</div>"
     },
     "execution_count": 26,
     "metadata": {},
     "output_type": "execute_result"
    }
   ],
   "source": [
    "# Random Forest\n",
    "from sklearn.ensemble import RandomForestClassifier\n",
    "\n",
    "X_train.sample(10)"
   ],
   "metadata": {
    "collapsed": false,
    "ExecuteTime": {
     "end_time": "2024-03-13T19:29:24.748446Z",
     "start_time": "2024-03-13T19:29:24.741027Z"
    }
   },
   "id": "b08efb6d79e77988",
   "execution_count": 26
  },
  {
   "cell_type": "code",
   "outputs": [],
   "source": [
    "# Instantiate the Random Forest classifier\n",
    "classifier = RandomForestClassifier(n_estimators=10, max_depth=2, min_samples_split=5, min_samples_leaf=5, random_state=42)\n",
    "# Train the classifier\n",
    "classifier.fit(X_train, y_train.values.ravel())\n"
   ],
   "metadata": {
    "collapsed": false
   },
   "id": "d551dee7fbac0e3d"
  },
  {
   "cell_type": "code",
   "outputs": [],
   "source": [
    "#KNN\n",
    "from sklearn.neighbors import KNeighborsClassifier\n",
    "# first with 4 neighbors\n",
    "model = KNeighborsClassifier(n_neighbors=4)\n",
    "model.fit(X_train, y_train)\n",
    "y_train_pred = model.predict(X_train)\n",
    "from sklearn.metrics import accuracy_score\n",
    "accuracy_on_train = accuracy_score(y_train, y_train_pred)\n",
    "print(\"Results with 4 neighbors\")\n",
    "print(accuracy_on_train)\n",
    "\n",
    "y_test_pred = model.predict(X_validation)\n",
    "accuracy_on_test = accuracy_score(y_validation, y_test_pred)\n",
    "print(accuracy_on_test)\n",
    "\n",
    "\n",
    "# now test it with 10 neighbors\n",
    "print(\"Results with 10 neighbors\")\n",
    "model_10 = KNeighborsClassifier(n_neighbors=10)\n",
    "model_10.fit(X_train, y_train)\n",
    "y_train_pred_10 = model_10.predict(X_train)\n",
    "accuracy_on_train_10 = accuracy_score(y_train, y_train_pred_10)\n",
    "print(accuracy_on_train_10)\n",
    "# accuracy on test set\n",
    "y_test_pred_10 = model_10.predict(X_validation)\n",
    "accuracy_on_test_10 = accuracy_score(y_validation, y_test_pred_10)\n",
    "print(accuracy_on_test_10)"
   ],
   "metadata": {
    "collapsed": false
   },
   "id": "53d43d184857d6ff"
  },
  {
   "cell_type": "code",
   "outputs": [],
   "source": [
    "# svm.fit(X_train, y_train)\n",
    "# \n",
    "# get_accuracy(svm, X_train, X_validation, y_train, y_validation)\n"
   ],
   "metadata": {
    "collapsed": false
   },
   "id": "58da2caf9960f2ea"
  }
 ],
 "metadata": {
  "kernelspec": {
   "display_name": "Python 3",
   "language": "python",
   "name": "python3"
  },
  "language_info": {
   "codemirror_mode": {
    "name": "ipython",
    "version": 2
   },
   "file_extension": ".py",
   "mimetype": "text/x-python",
   "name": "python",
   "nbconvert_exporter": "python",
   "pygments_lexer": "ipython2",
   "version": "2.7.6"
  }
 },
 "nbformat": 4,
 "nbformat_minor": 5
}
